{
 "cells": [
  {
   "cell_type": "code",
   "execution_count": 1,
   "metadata": {},
   "outputs": [
    {
     "ename": "SyntaxError",
     "evalue": "Missing parentheses in call to 'print'. Did you mean print(\"Python 是一个非常棒的语言，不是吗？\")? (<ipython-input-1-94c9471e323f>, line 1)",
     "output_type": "error",
     "traceback": [
      "\u001b[0;36m  File \u001b[0;32m\"<ipython-input-1-94c9471e323f>\"\u001b[0;36m, line \u001b[0;32m1\u001b[0m\n\u001b[0;31m    print \"Python 是一个非常棒的语言，不是吗？\"\u001b[0m\n\u001b[0m                                ^\u001b[0m\n\u001b[0;31mSyntaxError\u001b[0m\u001b[0;31m:\u001b[0m Missing parentheses in call to 'print'. Did you mean print(\"Python 是一个非常棒的语言，不是吗？\")?\n"
     ]
    }
   ],
   "source": [
    "print \"Python 是一个非常棒的语言，不是吗？\""
   ]
  },
  {
   "cell_type": "code",
   "execution_count": 4,
   "metadata": {},
   "outputs": [
    {
     "ename": "SyntaxError",
     "evalue": "Missing parentheses in call to 'print'. Did you mean print(''你输入的内容是:'', str)? (<ipython-input-4-e4b48d7ef5ed>, line 2)",
     "output_type": "error",
     "traceback": [
      "\u001b[0;36m  File \u001b[0;32m\"<ipython-input-4-e4b48d7ef5ed>\"\u001b[0;36m, line \u001b[0;32m2\u001b[0m\n\u001b[0;31m    print ''你输入的内容是:'', str\u001b[0m\n\u001b[0m           ^\u001b[0m\n\u001b[0;31mSyntaxError\u001b[0m\u001b[0;31m:\u001b[0m Missing parentheses in call to 'print'. Did you mean print(''你输入的内容是:'', str)?\n"
     ]
    }
   ],
   "source": [
    "str = raw_input(\"请输入：\")\n",
    "print ''你输入的内容是:'', str"
   ]
  },
  {
   "cell_type": "code",
   "execution_count": 8,
   "metadata": {},
   "outputs": [
    {
     "ename": "SyntaxError",
     "evalue": "Missing parentheses in call to 'print'. Did you mean print(\"当前时间戳为：\", ticks)? (<ipython-input-8-f2761f6e596c>, line 4)",
     "output_type": "error",
     "traceback": [
      "\u001b[0;36m  File \u001b[0;32m\"<ipython-input-8-f2761f6e596c>\"\u001b[0;36m, line \u001b[0;32m4\u001b[0m\n\u001b[0;31m    print \"当前时间戳为：\", ticks\u001b[0m\n\u001b[0m                  ^\u001b[0m\n\u001b[0;31mSyntaxError\u001b[0m\u001b[0;31m:\u001b[0m Missing parentheses in call to 'print'. Did you mean print(\"当前时间戳为：\", ticks)?\n"
     ]
    }
   ],
   "source": [
    "import time;\n",
    "\n",
    "ticks = time.time()\n",
    "print \"当前时间戳为：\", ticks"
   ]
  },
  {
   "cell_type": "code",
   "execution_count": 9,
   "metadata": {},
   "outputs": [
    {
     "ename": "SyntaxError",
     "evalue": "Missing parentheses in call to 'print'. Did you mean print(\"本地时间为 :\", localtime)? (<ipython-input-9-6dc78eff1f9d>, line 7)",
     "output_type": "error",
     "traceback": [
      "\u001b[0;36m  File \u001b[0;32m\"<ipython-input-9-6dc78eff1f9d>\"\u001b[0;36m, line \u001b[0;32m7\u001b[0m\n\u001b[0;31m    print \"本地时间为 :\", localtime\u001b[0m\n\u001b[0m                  ^\u001b[0m\n\u001b[0;31mSyntaxError\u001b[0m\u001b[0;31m:\u001b[0m Missing parentheses in call to 'print'. Did you mean print(\"本地时间为 :\", localtime)?\n"
     ]
    }
   ],
   "source": [
    "#!/usr/bin/python\n",
    "# -*- coding: UTF-8 -*-\n",
    " \n",
    "import time\n",
    " \n",
    "localtime = time.localtime(time.time())\n",
    "print \"本地时间为 :\", localtime\n"
   ]
  },
  {
   "cell_type": "code",
   "execution_count": 10,
   "metadata": {},
   "outputs": [
    {
     "ename": "IndentationError",
     "evalue": "unexpected indent (<ipython-input-10-451a0352dbbb>, line 2)",
     "output_type": "error",
     "traceback": [
      "\u001b[0;36m  File \u001b[0;32m\"<ipython-input-10-451a0352dbbb>\"\u001b[0;36m, line \u001b[0;32m2\u001b[0m\n\u001b[0;31m    2 if __name__ ==\"__main__\":    #四位数字字母验证码的生成\u001b[0m\n\u001b[0m    ^\u001b[0m\n\u001b[0;31mIndentationError\u001b[0m\u001b[0;31m:\u001b[0m unexpected indent\n"
     ]
    }
   ],
   "source": [
    "import random    \n",
    " 2 if __name__ ==\"__main__\":    #四位数字字母验证码的生成\n",
    " 3     checkcode=\"\" #保存验证码的变量\n",
    " 4     for i in range(4):\n",
    " 5         index=random.randrange(0,4)  #生成一个0~3中的数\n",
    " 6         if index!=i and index +1 !=i:\n",
    " 7             checkcode +=chr(random.randint(97,122))  # 生成a~z中的一个小写字母\n",
    " 8         elif index +1==i:\n",
    " 9             checkcode +=chr(random.randint(65,90) ) # 生成A~Z中的一个大写字母\n",
    "10         else:\n",
    "11             checkcode +=str(random.randint(1,9))  # 数字1-9\n",
    "12     print(checkcode)\n"
   ]
  },
  {
   "cell_type": "code",
   "execution_count": 11,
   "metadata": {},
   "outputs": [
    {
     "ename": "SyntaxError",
     "evalue": "invalid syntax (<ipython-input-11-d476e0a2496c>, line 1)",
     "output_type": "error",
     "traceback": [
      "\u001b[0;36m  File \u001b[0;32m\"<ipython-input-11-d476e0a2496c>\"\u001b[0;36m, line \u001b[0;32m1\u001b[0m\n\u001b[0;31m    1 def formatTime(longtime):\u001b[0m\n\u001b[0m        ^\u001b[0m\n\u001b[0;31mSyntaxError\u001b[0m\u001b[0;31m:\u001b[0m invalid syntax\n"
     ]
    }
   ],
   "source": [
    "1 def formatTime(longtime):\n",
    "2 '''格式化时间的函数'''\n",
    "3 import time\n",
    "4 return time.strftime(\"%Y-%m-%d %H:%M:%S\",time.localtime(longtime))"
   ]
  },
  {
   "cell_type": "code",
   "execution_count": 12,
   "metadata": {},
   "outputs": [
    {
     "ename": "SyntaxError",
     "evalue": "invalid syntax (<ipython-input-12-5c4725981417>, line 39)",
     "output_type": "error",
     "traceback": [
      "\u001b[0;36m  File \u001b[0;32m\"<ipython-input-12-5c4725981417>\"\u001b[0;36m, line \u001b[0;32m39\u001b[0m\n\u001b[0;31m    while len(passw ord) < 6 :\u001b[0m\n\u001b[0m                      ^\u001b[0m\n\u001b[0;31mSyntaxError\u001b[0m\u001b[0;31m:\u001b[0m invalid syntax\n"
     ]
    }
   ],
   "source": [
    "import time\n",
    "\n",
    "def show_info():\n",
    "    print('''输入提示数字，执行相应操作\n",
    "0：退出\n",
    "1：查看登录日志\n",
    "    ''')\n",
    "\n",
    "def write_loginfo(username):\n",
    "    \"\"\"\n",
    "    将用户名和登录时间写入日志\n",
    "    :param username: 用户名\n",
    "    \"\"\"\n",
    "    with open('log.txt','a') as f:\n",
    "        string = \"用户名：{} 登录时间：{}\\n\".format(username ,time.strftime('%Y-%m-%d %H:%M:%S',time.localtime(time.time())))\n",
    "        f.write(string)\n",
    "\n",
    "def read_loginfo():\n",
    "    \"\"\"\n",
    "    读取日志\n",
    "    \"\"\"\n",
    "    with open('log.txt','r') as f:\n",
    "        while True:\n",
    "            line = f.readline()\n",
    "            if line == '':\n",
    "                break  # 跳出循环\n",
    "            print(line)  # 输出一行内容\n",
    "\n",
    "if __name__ == \"__main__\":\n",
    "    # 输入用户名\n",
    "    username = input('请输入用户名：')\n",
    "    # 检测用户名\n",
    "    while len(username) < 2 :\n",
    "        print('用户名长度应不少于2位')\n",
    "        username = input('请输入用户名：')\n",
    "    # 输入密码\n",
    "    password = input('请输入密码：')\n",
    "    # 检测密码\n",
    "    while len(passw ord) < 6 :\n",
    "        print('密码长度应不少于6位')\n",
    "        password = input('请输入密码：')\n",
    "\n",
    "    print('登录成功')\n",
    "    write_loginfo(username)  # 写入日志\n",
    "    show_info()              # 提示信息\n",
    "    num = int(input('输入操作数字:')) # 输入数字\n",
    "    while True:\n",
    "        if num == 0:\n",
    "            print('退出成功')\n",
    "            break\n",
    "        elif num == 1:\n",
    "            print('查看登录日志')\n",
    "            read_loginfo()\n",
    "            show_info()\n",
    "            num = int(input('输入操作数字:'))\n",
    "        else:\n",
    "            print('您输入的数字有误')\n",
    "            show_info()\n",
    "            num = int(input('输入操作数字:'))\n"
   ]
  },
  {
   "cell_type": "code",
   "execution_count": 13,
   "metadata": {},
   "outputs": [
    {
     "ename": "SyntaxError",
     "evalue": "invalid syntax (<ipython-input-13-4d702abc516f>, line 3)",
     "output_type": "error",
     "traceback": [
      "\u001b[0;36m  File \u001b[0;32m\"<ipython-input-13-4d702abc516f>\"\u001b[0;36m, line \u001b[0;32m3\u001b[0m\n\u001b[0;31m    3 def find_answer(question):\u001b[0m\n\u001b[0m        ^\u001b[0m\n\u001b[0;31mSyntaxError\u001b[0m\u001b[0;31m:\u001b[0m invalid syntax\n"
     ]
    }
   ],
   "source": [
    " 1 # 任务2：模拟淘宝客服自动回复\n",
    " 2 \n",
    " 3 def find_answer(question):\n",
    " 4     with open('reply.txt','r') as f :\n",
    " 5         while True:\n",
    " 6             line=f.readline()\n",
    " 7             if  not line:   #也可以为if  line==''\n",
    " 8                 break\n",
    " 9             keyword=line.split('|')[0]\n",
    "10             reply=line.split('|')[1]\n",
    "11             if keyword in question:\n",
    "12                 return reply\n",
    "13         return '对不起，没有你想要找的问题'\n",
    "14          \n",
    "15 if __name__ =='__main__':\n",
    "16     question=input('请输入想要提问的内容：')\n",
    "17     while True:\n",
    "18         if question=='bye':\n",
    "19             break\n",
    "20         reply=find_answer(question)\n",
    "21         if not reply:\n",
    "22             question=input(\"小蜜不懂您在说什么，您可以问一些与订单、账户和支付相关的内容（退出请输入bye）：\")\n",
    "23         else:\n",
    "24             print(reply)\n",
    "25             question=input(\"您可以问一些与订单、账户和支付相关的内容（退出请输入bye）：\")\n",
    "26     print('谢谢，再见！')"
   ]
  },
  {
   "cell_type": "code",
   "execution_count": 14,
   "metadata": {},
   "outputs": [
    {
     "ename": "SyntaxError",
     "evalue": "Missing parentheses in call to 'print'. Did you mean print(\"本地时间为 :\", localtime)? (<ipython-input-14-d26a5c32c90b>, line 7)",
     "output_type": "error",
     "traceback": [
      "\u001b[0;36m  File \u001b[0;32m\"<ipython-input-14-d26a5c32c90b>\"\u001b[0;36m, line \u001b[0;32m7\u001b[0m\n\u001b[0;31m    print \"本地时间为 :\", localtime\u001b[0m\n\u001b[0m                  ^\u001b[0m\n\u001b[0;31mSyntaxError\u001b[0m\u001b[0;31m:\u001b[0m Missing parentheses in call to 'print'. Did you mean print(\"本地时间为 :\", localtime)?\n"
     ]
    }
   ],
   "source": [
    "#!/usr/bin/python\n",
    "# -*- coding: UTF-8 -*-\n",
    " \n",
    "import time\n",
    " \n",
    "localtime = time.asctime( time.localtime(time.time()) )\n",
    "print \"本地时间为 :\", localtime"
   ]
  },
  {
   "cell_type": "code",
   "execution_count": 15,
   "metadata": {},
   "outputs": [
    {
     "ename": "SyntaxError",
     "evalue": "invalid syntax (<ipython-input-15-341cf6b7bb90>, line 4)",
     "output_type": "error",
     "traceback": [
      "\u001b[0;36m  File \u001b[0;32m\"<ipython-input-15-341cf6b7bb90>\"\u001b[0;36m, line \u001b[0;32m4\u001b[0m\n\u001b[0;31m    print time.strftime(\"%Y-%m-%d %H:%M:%S\", time.localtime())\u001b[0m\n\u001b[0m             ^\u001b[0m\n\u001b[0;31mSyntaxError\u001b[0m\u001b[0;31m:\u001b[0m invalid syntax\n"
     ]
    }
   ],
   "source": [
    "import time\n",
    " \n",
    "# 格式化成2016-03-20 11:45:39形式\n",
    "print time.strftime(\"%Y-%m-%d %H:%M:%S\", time.localtime()) \n",
    " \n",
    "# 格式化成Sat Mar 28 22:24:24 2016形式\n",
    "print time.strftime(\"%a %b %d %H:%M:%S %Y\", time.localtime()) \n",
    "  \n",
    "# 将格式字符串转换为时间戳\n",
    "a = \"Sat Mar 28 22:24:24 2016\"\n",
    "print time.mktime(time.strptime(a,\"%a %b %d %H:%M:%S %Y\"))"
   ]
  },
  {
   "cell_type": "code",
   "execution_count": 16,
   "metadata": {},
   "outputs": [
    {
     "ename": "SyntaxError",
     "evalue": "Missing parentheses in call to 'print'. Did you mean print(\"以下输出2016年1月份的日历:\")? (<ipython-input-16-2e358bbe5638>, line 4)",
     "output_type": "error",
     "traceback": [
      "\u001b[0;36m  File \u001b[0;32m\"<ipython-input-16-2e358bbe5638>\"\u001b[0;36m, line \u001b[0;32m4\u001b[0m\n\u001b[0;31m    print \"以下输出2016年1月份的日历:\"\u001b[0m\n\u001b[0m                           ^\u001b[0m\n\u001b[0;31mSyntaxError\u001b[0m\u001b[0;31m:\u001b[0m Missing parentheses in call to 'print'. Did you mean print(\"以下输出2016年1月份的日历:\")?\n"
     ]
    }
   ],
   "source": [
    "import calendar\n",
    " \n",
    "cal = calendar.month(2016, 1)\n",
    "print \"以下输出2016年1月份的日历:\"\n",
    "print cal"
   ]
  },
  {
   "cell_type": "code",
   "execution_count": null,
   "metadata": {},
   "outputs": [],
   "source": []
  },
  {
   "cell_type": "code",
   "execution_count": null,
   "metadata": {},
   "outputs": [],
   "source": []
  }
 ],
 "metadata": {
  "kernelspec": {
   "display_name": "Python 3",
   "language": "python",
   "name": "python3"
  },
  "language_info": {
   "codemirror_mode": {
    "name": "ipython",
    "version": 3
   },
   "file_extension": ".py",
   "mimetype": "text/x-python",
   "name": "python",
   "nbconvert_exporter": "python",
   "pygments_lexer": "ipython3",
   "version": "3.6.7"
  }
 },
 "nbformat": 4,
 "nbformat_minor": 2
}
