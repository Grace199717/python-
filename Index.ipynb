{
 "cells": [
  {
   "cell_type": "markdown",
   "metadata": {},
   "source": [
    "# Welcome to Jupyter!"
   ]
  },
  {
   "cell_type": "code",
   "execution_count": 1,
   "metadata": {},
   "outputs": [
    {
     "name": "stdout",
     "output_type": "stream",
     "text": [
      "{'b': 1, 'a': 0}\n"
     ]
    }
   ],
   "source": [
    "d = dict()\n",
    "d['b'] = 1\n",
    "d.setdefault('a',0)\n",
    "d.setdefault('b',0)\n",
    "print(d)"
   ]
  },
  {
   "cell_type": "code",
   "execution_count": 13,
   "metadata": {},
   "outputs": [
    {
     "name": "stdout",
     "output_type": "stream",
     "text": [
      "{'h': 1, 'e': 1, 'l': 3, 'o': 2, ',': 1, ' ': 1, 'w': 1, 'r': 1, 'd': 1}\n"
     ]
    }
   ],
   "source": [
    "c"
   ]
  },
  {
   "cell_type": "code",
   "execution_count": 12,
   "metadata": {},
   "outputs": [
    {
     "name": "stdout",
     "output_type": "stream",
     "text": [
      "{'h': 1, 'e': 1, 'l': 3, 'o': 2, ',': 1, ' ': 1, 'w': 1, 'r': 1, 'd': 1}\n"
     ]
    }
   ],
   "source": [
    "count ={}\n",
    "for ch in 'hello, world':\n",
    "    count.setdefault(ch, 0)\n",
    "    count[ch]+=1\n",
    "print(count)"
   ]
  },
  {
   "cell_type": "code",
   "execution_count": 16,
   "metadata": {},
   "outputs": [],
   "source": [
    "text = '''\n",
    "My father is a typical man, who is not very talkative. When other fathers say how much they love their children, my father just keep quiet. He barely says sweet words to me. But he will never miss every important moment for me, like the performance in school. He is always one of the audience and watch my performance. My father tells me to study with passion and he sets the good example for me, because he loves his work. Sometimes he shows me his design of work, and I admire him. I know my father loves me so much. Though he doesn't talk much, he will be right by my side whenever I need him.\n",
    "'''"
   ]
  },
  {
   "cell_type": "code",
   "execution_count": 36,
   "metadata": {},
   "outputs": [
    {
     "name": "stdout",
     "output_type": "stream",
     "text": [
      "{'my': 6, 'father': 4, 'is': 3, 'a': 1, 'typical': 1, 'man': 1, 'who': 1, 'not': 1, 'very': 1, 'talkative': 1, 'when': 1, 'other': 1, 'fathers': 1, 'say': 1, 'how': 1, 'much': 3, 'they': 1, 'love': 1, 'their': 1, 'children': 1, 'just': 1, 'keep': 1, 'quiet': 1, 'he': 8, 'barely': 1, 'says': 1, 'sweet': 1, 'words': 1, 'to': 2, 'me': 6, 'but': 1, 'will': 2, 'never': 1, 'miss': 1, 'every': 1, 'important': 1, 'moment': 1, 'for': 2, 'like': 1, 'the': 3, 'performance': 2, 'in': 1, 'school': 1, 'always': 1, 'one': 1, 'of': 2, 'audience': 1, 'and': 3, 'watch': 1, 'tells': 1, 'study': 1, 'with': 1, 'passion': 1, 'sets': 1, 'good': 1, 'example': 1, 'because': 1, 'loves': 2, 'his': 2, 'work': 2, 'sometimes': 1, 'shows': 1, 'design': 1, 'i': 3, 'admire': 1, 'him': 2, 'know': 1, 'so': 1, 'though': 1, 'doesn': 1, 't': 1, 'talk': 1, 'be': 1, 'right': 1, 'by': 1, 'side': 1, 'whenever': 1, 'need': 1}\n"
     ]
    }
   ],
   "source": [
    "sep = '\\n\\t\\'\\\"\":,.()-'\n",
    "for ch in sep:\n",
    "    text = text.replace(ch, ' ')\n",
    "words = text.lower().split(' ')   \n",
    "try:\n",
    "    while True: words.remove('')\n",
    "except:\n",
    "    pass\n",
    "\n",
    "count = {}\n",
    "for word in words:\n",
    "    count.setdefault(word, 0)\n",
    "    count[word] +=1\n",
    "print(count)"
   ]
  },
  {
   "cell_type": "code",
   "execution_count": 52,
   "metadata": {},
   "outputs": [
    {
     "name": "stdout",
     "output_type": "stream",
     "text": [
      "['my', 'me']\n"
     ]
    }
   ],
   "source": [
    "words_by_count = dict()\n",
    "for word in count.keys():\n",
    "    words_by_count.setdefault(count[word], [])\n",
    "    words_by_count[count[word]].append(word)\n",
    "print(words_by_count[6])"
   ]
  },
  {
   "cell_type": "code",
   "execution_count": 53,
   "metadata": {},
   "outputs": [
    {
     "data": {
      "text/plain": [
       "[1, 2, 3, 4, 6, 8]"
      ]
     },
     "execution_count": 53,
     "metadata": {},
     "output_type": "execute_result"
    }
   ],
   "source": [
    "sorted(words_by_count.keys())"
   ]
  },
  {
   "cell_type": "code",
   "execution_count": 54,
   "metadata": {},
   "outputs": [
    {
     "name": "stdout",
     "output_type": "stream",
     "text": [
      "Count 8:he \n",
      "\n",
      "Count 6:my me \n",
      "\n",
      "Count 4:father \n",
      "\n",
      "Count 3:is much the and i \n",
      "\n",
      "Count 2:to will for performance of loves his work him \n",
      "\n",
      "Count 1:a typical man who not very talkative when other fathers say how they love their children just keep quiet barely says sweet words but never miss every important moment like in school always one audience watch tells study with passion sets good example because sometimes shows design admire know so though doesn t talk be right by side whenever need \n",
      "\n"
     ]
    }
   ],
   "source": [
    "for item in sorted(words_by_count.keys(),reverse=True):\n",
    "    print('Count {}:'.format(item), end='')\n",
    "    for word in words_by_count[item]:\n",
    "          print(word, end =' ')\n",
    "    print('\\n')"
   ]
  },
  {
   "cell_type": "code",
   "execution_count": null,
   "metadata": {},
   "outputs": [],
   "source": []
  },
  {
   "cell_type": "code",
   "execution_count": null,
   "metadata": {},
   "outputs": [],
   "source": []
  },
  {
   "cell_type": "code",
   "execution_count": null,
   "metadata": {},
   "outputs": [],
   "source": []
  },
  {
   "cell_type": "code",
   "execution_count": null,
   "metadata": {},
   "outputs": [],
   "source": []
  },
  {
   "cell_type": "markdown",
   "metadata": {},
   "source": [
    "This repo contains an introduction to [Jupyter](https://jupyter.org) and [IPython](https://ipython.org).\n",
    "\n",
    "Outline of some basics:\n",
    "\n",
    "* [Notebook Basics](../examples/Notebook/Notebook%20Basics.ipynb)\n",
    "* [IPython - beyond plain python](../examples/IPython%20Kernel/Beyond%20Plain%20Python.ipynb)\n",
    "* [Markdown Cells](../examples/Notebook/Working%20With%20Markdown%20Cells.ipynb)\n",
    "* [Rich Display System](../examples/IPython%20Kernel/Rich%20Output.ipynb)\n",
    "* [Custom Display logic](../examples/IPython%20Kernel/Custom%20Display%20Logic.ipynb)\n",
    "* [Running a Secure Public Notebook Server](../examples/Notebook/Running%20the%20Notebook%20Server.ipynb#Securing-the-notebook-server)\n",
    "* [How Jupyter works](../examples/Notebook/Multiple%20Languages%2C%20Frontends.ipynb) to run code in different languages."
   ]
  },
  {
   "cell_type": "code",
   "execution_count": null,
   "metadata": {},
   "outputs": [],
   "source": []
  },
  {
   "cell_type": "code",
   "execution_count": null,
   "metadata": {},
   "outputs": [],
   "source": []
  },
  {
   "cell_type": "markdown",
   "metadata": {},
   "source": [
    "You can also get this tutorial and run it on your laptop:\n",
    "\n",
    "    git clone https://github.com/ipython/ipython-in-depth\n",
    "\n",
    "Install IPython and Jupyter:\n",
    "\n",
    "with [conda](https://www.anaconda.com/download):\n",
    "\n",
    "    conda install ipython jupyter\n",
    "\n",
    "with pip:\n",
    "\n",
    "    # first, always upgrade pip!\n",
    "    pip install --upgrade pip\n",
    "    pip install --upgrade ipython jupyter\n",
    "\n",
    "Start the notebook in the tutorial directory:\n",
    "\n",
    "    cd ipython-in-depth\n",
    "    jupyter notebook"
   ]
  }
 ],
 "metadata": {
  "kernelspec": {
   "display_name": "Python 3",
   "language": "python",
   "name": "python3"
  },
  "language_info": {
   "codemirror_mode": {
    "name": "ipython",
    "version": 3
   },
   "file_extension": ".py",
   "mimetype": "text/x-python",
   "name": "python",
   "nbconvert_exporter": "python",
   "pygments_lexer": "ipython3",
   "version": "3.6.7"
  }
 },
 "nbformat": 4,
 "nbformat_minor": 2
}
